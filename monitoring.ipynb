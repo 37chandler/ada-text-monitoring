{
 "cells": [
  {
   "cell_type": "markdown",
   "metadata": {},
   "source": [
    "## Text Monitoring\n",
    "\n",
    "The `README.md` contains detailed instructions. Your goal is to create a message that could be texted to the Carbitrage project owner, following the guidelines on the options. \n",
    "\n",
    "---\n",
    "\n",
    "First, let's get our libraries loaded and our GBQ connection set."
   ]
  },
  {
   "cell_type": "code",
   "execution_count": 1,
   "metadata": {},
   "outputs": [],
   "source": [
    "from google.cloud import bigquery\n",
    "from functions import (count_log_entries, count_raw_listing_pages, \n",
    "                       count_links_need_harvesting, get_raw_listing_pages_on_date)"
   ]
  },
  {
   "cell_type": "code",
   "execution_count": 2,
   "metadata": {},
   "outputs": [],
   "source": [
    "project_id = 'umt-msba'  \n",
    "client = bigquery.Client(project=project_id)"
   ]
  },
  {
   "cell_type": "markdown",
   "metadata": {},
   "source": [
    "### Daily Monitoring Example\n",
    "\n",
    "These next blocks will get you started if you end up doing the daily monitoring option."
   ]
  },
  {
   "cell_type": "code",
   "execution_count": 3,
   "metadata": {},
   "outputs": [],
   "source": [
    "log_count = count_log_entries(client)\n",
    "raw_listing_pages_count = count_raw_listing_pages(client)\n",
    "links_need_harvesting_count = count_links_need_harvesting(client)"
   ]
  },
  {
   "cell_type": "code",
   "execution_count": 4,
   "metadata": {},
   "outputs": [],
   "source": [
    "message = f\"Monitoring Report:\\n\\n\"\n",
    "message += f\"Total log entries: {log_count}\\n\"\n",
    "message += f\"Total raw listing pages: {raw_listing_pages_count}\\n\"\n",
    "message += f\"Total links needing harvesting: {links_need_harvesting_count}\\n\"\n",
    "\n"
   ]
  },
  {
   "cell_type": "code",
   "execution_count": 5,
   "metadata": {},
   "outputs": [
    {
     "name": "stdout",
     "output_type": "stream",
     "text": [
      "Monitoring Report:\n",
      "\n",
      "Total log entries: 379896\n",
      "Total raw listing pages: 2721225\n",
      "Total links needing harvesting: 223\n",
      "\n"
     ]
    }
   ],
   "source": [
    "print(message)"
   ]
  },
  {
   "cell_type": "markdown",
   "metadata": {},
   "source": [
    "### Alert Monitoring\n",
    "\n",
    "These next blocks illustrate how the alert monitoring might work. "
   ]
  },
  {
   "cell_type": "code",
   "execution_count": 6,
   "metadata": {},
   "outputs": [],
   "source": [
    "date_1 = '2024-10-05'\n",
    "date_2 = '2024-10-06'\n",
    "\n",
    "pages_count_1 = get_raw_listing_pages_on_date(client, date_1)\n",
    "pages_count_2 = get_raw_listing_pages_on_date(client, date_2)"
   ]
  },
  {
   "cell_type": "code",
   "execution_count": 9,
   "metadata": {},
   "outputs": [
    {
     "name": "stdout",
     "output_type": "stream",
     "text": [
      "*ALERT*\n",
      "\n",
      "The difference in raw listing pages between 2024-10-05 and 2024-10-06 is greater than the threshold: 1826\n"
     ]
    }
   ],
   "source": [
    "alert_start = \"*ALERT*\\n\\n\"\n",
    "message = alert_start\n",
    "\n",
    "threshold = 500\n",
    "\n",
    "if abs(pages_count_1 - pages_count_2) > threshold:\n",
    "    message += f\"The difference in raw listing pages between {date_1} and {date_2} is greater than the threshold: {abs(pages_count_1 - pages_count_2)}\"\n",
    "\n",
    "if message != alert_start:\n",
    "    print(message)\n",
    "else: \n",
    "    print(\"No alert to report.\\n\\nHere's what the message would look like:\")\n",
    "    print(message)\n"
   ]
  },
  {
   "cell_type": "code",
   "execution_count": null,
   "metadata": {},
   "outputs": [],
   "source": []
  }
 ],
 "metadata": {
  "kernelspec": {
   "display_name": "base",
   "language": "python",
   "name": "python3"
  },
  "language_info": {
   "codemirror_mode": {
    "name": "ipython",
    "version": 3
   },
   "file_extension": ".py",
   "mimetype": "text/x-python",
   "name": "python",
   "nbconvert_exporter": "python",
   "pygments_lexer": "ipython3",
   "version": "3.11.7"
  }
 },
 "nbformat": 4,
 "nbformat_minor": 2
}
